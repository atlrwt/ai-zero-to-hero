{
 "cells": [
  {
   "cell_type": "markdown",
   "id": "4e3e5ee9-9a17-4887-9519-4341a59c8f6b",
   "metadata": {},
   "source": [
    "# 2. Classifying with k-Nearest Neighbors"
   ]
  },
  {
   "cell_type": "markdown",
   "id": "b923f10c-510a-471b-ad23-17f261faec61",
   "metadata": {},
   "source": [
    "[Table of Contents]\n",
    "\n",
    "2.1 Classifying with distance measurements"
   ]
  },
  {
   "cell_type": "markdown",
   "id": "33fbee9e-a831-4694-9c9e-c9473ae110e5",
   "metadata": {},
   "source": [
    "## 2.1 Classifying with distance measurements"
   ]
  },
  {
   "cell_type": "markdown",
   "id": "84f72eba-663d-4c4a-b1f3-9c73a3176d33",
   "metadata": {},
   "source": [
    "k-Nearest Neighbors\n",
    "> Pros: High accuracy, insensitive to outliers, no assumptions about data\n",
    "> \n",
    "> Cons: Computationally expensive, requires a lot of memory\n",
    ">\n",
    "> Works with: Numeric values, nominal values"
   ]
  },
  {
   "cell_type": "markdown",
   "id": "c903a5c3-3823-4059-b9fd-5fe50c479fd7",
   "metadata": {},
   "source": [
    "General approach to kNN\n",
    "1. Collect: Any method.\n",
    "2. Prepare: Numeric values are needed for a distance calculation. A structured data format is best.\n",
    "3. Analyze: Any method.\n",
    "4. Train: Does not apply to the kNN algorithm.\n",
    "5. Test: Calculate the error rate.\n",
    "6. Use: This application needs to get some input data and output structured num- eric values. Next, the application runs the kNN algorithm on this input data and determines which class the input data should belong to. The application then takes some action on the calculated class"
   ]
  },
  {
   "cell_type": "markdown",
   "id": "b8f8a9ab-29ff-481b-817b-c56021e75254",
   "metadata": {},
   "source": [
    "### 2.1.1 Prepare: importing data with Python"
   ]
  },
  {
   "cell_type": "code",
   "execution_count": 12,
   "id": "4f4ec0e9-af2d-4aa1-9995-2b1c88f939ae",
   "metadata": {},
   "outputs": [],
   "source": [
    "import numpy as np\n",
    "import operator"
   ]
  },
  {
   "cell_type": "code",
   "execution_count": 31,
   "id": "cefcd286-870f-48fb-adfd-518b3f9ec273",
   "metadata": {},
   "outputs": [],
   "source": [
    "def createDataSet():\n",
    "    \"\"\"\n",
    "    Create a data set.\n",
    "    \"\"\"\n",
    "    group = np.array([[1.0, 1.1],\n",
    "                      [1.0, 1.0],\n",
    "                      [0.0, 0.0],\n",
    "                      [0.0, 0.1]])\n",
    "    labels = ['A', 'A', 'B', 'B']\n",
    "    return group, labels"
   ]
  },
  {
   "cell_type": "code",
   "execution_count": 33,
   "id": "9239717d-12fa-45db-a7f5-699671307b58",
   "metadata": {},
   "outputs": [],
   "source": [
    "group, labels = createDataSet()"
   ]
  },
  {
   "cell_type": "code",
   "execution_count": 34,
   "id": "dc161ac7-d414-4225-82ca-bc63d21d081f",
   "metadata": {},
   "outputs": [
    {
     "data": {
      "text/plain": [
       "array([[1. , 1.1],\n",
       "       [1. , 1. ],\n",
       "       [0. , 0. ],\n",
       "       [0. , 0.1]])"
      ]
     },
     "execution_count": 34,
     "metadata": {},
     "output_type": "execute_result"
    }
   ],
   "source": [
    "group"
   ]
  },
  {
   "cell_type": "code",
   "execution_count": 35,
   "id": "e07e0cf1-4413-446c-ab9f-5d56294e6e70",
   "metadata": {},
   "outputs": [
    {
     "data": {
      "text/plain": [
       "['A', 'A', 'B', 'B']"
      ]
     },
     "execution_count": 35,
     "metadata": {},
     "output_type": "execute_result"
    }
   ],
   "source": [
    "labels"
   ]
  },
  {
   "cell_type": "markdown",
   "id": "a2386a29-2aff-4b54-bba9-5bb1911f74f9",
   "metadata": {},
   "source": [
    "### 2.1.2 Putting the kNN classification algorithm into action"
   ]
  },
  {
   "cell_type": "markdown",
   "id": "ff7ed11e-49dd-46d4-818f-87ccf6a82106",
   "metadata": {},
   "source": [
    "For every point in our dataset:\n",
    "\n",
    "(1) calculate the distance between inX and the current point\n",
    "\n",
    "(2) sort the distances in increasing order\n",
    "\n",
    "(3) take k items with lowest distances to inX\n",
    "\n",
    "(4) find the majority class among these items\n",
    "\n",
    "(5) return the majority class as our prediction for the class of inX"
   ]
  },
  {
   "cell_type": "markdown",
   "id": "8a2f6992-48a2-46a2-84bb-77a96753d560",
   "metadata": {},
   "source": [
    "### 2.1.3 How to test a classifier"
   ]
  },
  {
   "cell_type": "markdown",
   "id": "7e4960e4-c303-4535-b1ec-d0cec171147d",
   "metadata": {},
   "source": [
    "## 2.2 Example: improving matches from a dating site with kNN"
   ]
  },
  {
   "cell_type": "markdown",
   "id": "b9edf801-8e01-4b91-8afe-e4cbb3f52d37",
   "metadata": {},
   "source": [
    "Example: using kNN on results from a dating site\n",
    "1. Collect: Text file provided.\n",
    "2. Prepare: Parse a text file in Python.\n",
    "3. Analyze: Use Matplotlib to make 2D plots of our data.\n",
    "4. Train: Doesn’t apply to the kNN algorithm.\n",
    "5. Test: Write a function to use some portion of the data Hellen gave us as test ex- amples. The test examples are classified against the non-test examples. If the predicted class doesn’t match the real class, we’ll count that as an error.\n",
    "6. Use: Build a simple command-line program Hellen can use to predict whether she’ll like someone based on a few inputs."
   ]
  },
  {
   "cell_type": "markdown",
   "id": "0485fdfa-0a35-4dcc-9250-b2a8b65ce92b",
   "metadata": {},
   "source": [
    "### 2.2.1 Prepare: parsing data from a text file"
   ]
  },
  {
   "cell_type": "markdown",
   "id": "54e677e2-454f-4540-b888-0a9fd1f6720d",
   "metadata": {},
   "source": [
    "### 2.2.2 Analyze: creating scatter plots with Matplotlib"
   ]
  },
  {
   "cell_type": "markdown",
   "id": "68e16c2f-724b-4943-9478-efa46af31237",
   "metadata": {},
   "source": [
    "### 2.2.3 Prepare: normalizing numeric values"
   ]
  },
  {
   "cell_type": "markdown",
   "id": "cb8a0450-cb7e-4aa5-a8f6-7fe8866f012e",
   "metadata": {},
   "source": [
    "### 2.2.4 Test: testing the classifier as a whole program"
   ]
  },
  {
   "cell_type": "markdown",
   "id": "5ac3ed44-b8c6-44fc-a130-6c3a9af4b08e",
   "metadata": {},
   "source": [
    "### 2.2.5 Use: putting together a useful system"
   ]
  },
  {
   "cell_type": "markdown",
   "id": "e8d79784-b9fc-44bb-b6b5-85174ae60a8d",
   "metadata": {},
   "source": [
    "## 2.3 Example: a handwriting recognition system"
   ]
  },
  {
   "cell_type": "markdown",
   "id": "bcd319c9-274c-4f2d-b204-49fd7969dfc3",
   "metadata": {},
   "source": [
    "Example: using kNN on a handwriting recognition system\n",
    "1. Collect: Text file provided.\n",
    "2. Prepare: Write a function to convert from the image format to the list format\n",
    "used in our classifier, classify0().\n",
    "3. Analyze: We’ll look at the prepared data in the Python shell to make sure it’s\n",
    "correct.\n",
    "4. Train: Doesn’t apply to the kNN algorithm.\n",
    "5. Test: Write a function to use some portion of the data as test examples. The test examples are classified against the non-test examples. If the predicted class doesn’t match the real class, you’ll count that as an error.\n",
    "6. Use: Not performed in this example. You could build a complete program to extract digits from an image, such a system used to sort the mail in the United States."
   ]
  },
  {
   "cell_type": "markdown",
   "id": "1b54eefd-1073-406f-a9ff-4d19035cdf6a",
   "metadata": {},
   "source": [
    "### 2.3.1 Prepare: converting images into test vectors"
   ]
  },
  {
   "cell_type": "markdown",
   "id": "e1bb9be1-81f3-4ac7-885b-85a40b2e2c4e",
   "metadata": {},
   "source": [
    "### 2.3.2 Test: kNN on handwritten digits"
   ]
  },
  {
   "cell_type": "markdown",
   "id": "939a1050-0f58-4009-ba3c-fadadd14cbd9",
   "metadata": {},
   "source": [
    "## 2.4 Summary"
   ]
  },
  {
   "cell_type": "markdown",
   "id": "36d016ec-4911-43f4-bddb-19b6b9b716f6",
   "metadata": {},
   "source": [
    "The algorithm has to carry around the full dataset; for large datasets, this implies a large amount of storage.\n",
    "\n",
    "In addition, you need to calculate the distance measurement for every piece of data in the database, and this can be cumbersome.\n",
    "\n",
    "An additional drawback is that kNN doesn’t give you any idea of the underlying structure of the data; you have no idea what an “average” or “exemplar” instance from each class looks like."
   ]
  }
 ],
 "metadata": {
  "kernelspec": {
   "display_name": "Python 3 (ipykernel)",
   "language": "python",
   "name": "python3"
  },
  "language_info": {
   "codemirror_mode": {
    "name": "ipython",
    "version": 3
   },
   "file_extension": ".py",
   "mimetype": "text/x-python",
   "name": "python",
   "nbconvert_exporter": "python",
   "pygments_lexer": "ipython3",
   "version": "3.12.7"
  }
 },
 "nbformat": 4,
 "nbformat_minor": 5
}
