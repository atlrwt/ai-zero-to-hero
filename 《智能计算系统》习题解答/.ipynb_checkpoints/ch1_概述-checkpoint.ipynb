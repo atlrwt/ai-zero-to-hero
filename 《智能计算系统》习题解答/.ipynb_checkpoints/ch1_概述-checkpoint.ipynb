{
 "cells": [
  {
   "cell_type": "markdown",
   "id": "e9f969aa-3d17-4972-b789-ea3830024698",
   "metadata": {},
   "source": [
    "# 第 1 章  概述  —— 习题解答"
   ]
  },
  {
   "cell_type": "markdown",
   "id": "fbff9b5e-9b9e-4ab0-a647-e697f97a6bd6",
   "metadata": {},
   "source": [
    "## 1.1\n",
    "简述强人工智能和弱人工智能的区别。"
   ]
  },
  {
   "cell_type": "markdown",
   "id": "337cb200-8b52-4ba2-944a-9b8ec5d66907",
   "metadata": {},
   "source": [
    "## 1.2\n",
    "简述人工智能研究的三个学派"
   ]
  },
  {
   "cell_type": "markdown",
   "id": "3c70e511-666d-43ce-9099-ac50710a52b5",
   "metadata": {},
   "source": [
    "## 1.3\n",
    "一个有两个输入的单个神经元构成的感知机能完成什么任务？"
   ]
  },
  {
   "cell_type": "markdown",
   "id": "c1afb4a5-d483-42eb-ac0d-5cd02ddf8387",
   "metadata": {},
   "source": [
    "## 1.4\n",
    "深度学习的局限性有哪些？"
   ]
  },
  {
   "cell_type": "markdown",
   "id": "5f181d44-ba94-4a3a-a3d2-8d5081d8530f",
   "metadata": {},
   "source": [
    "## 1.5\n",
    "什么是智能计算系统？"
   ]
  },
  {
   "cell_type": "markdown",
   "id": "3b039a37-7a94-4b88-8517-077628d23774",
   "metadata": {},
   "source": [
    "## 1.6\n",
    "为什么需要智能计算系统？"
   ]
  },
  {
   "cell_type": "markdown",
   "id": "3847afe3-0486-418d-ade0-b0652d156ebc",
   "metadata": {},
   "source": [
    "## 1.7\n",
    "第一代智能计算系统有什么特点？"
   ]
  },
  {
   "cell_type": "markdown",
   "id": "56515812-5599-4007-8fc3-2b7af9578154",
   "metadata": {},
   "source": [
    "## 1.8\n",
    "第二代智能计算系统有什么特点？"
   ]
  },
  {
   "cell_type": "markdown",
   "id": "8b1cb038-bcd6-4c02-a991-009a01052eac",
   "metadata": {},
   "source": [
    "## 1.9\n",
    "第三代智能计算系统有什么特点？"
   ]
  },
  {
   "cell_type": "markdown",
   "id": "44077775-ae12-409e-8acd-edd096a44af4",
   "metadata": {},
   "source": [
    "## 1.10\n",
    "假设请你设计一个智能计算系统，你打算如何设计？在你的设计里，用户将如何使用该智能计算系统？"
   ]
  }
 ],
 "metadata": {
  "kernelspec": {
   "display_name": "Python 3 (ipykernel)",
   "language": "python",
   "name": "python3"
  },
  "language_info": {
   "codemirror_mode": {
    "name": "ipython",
    "version": 3
   },
   "file_extension": ".py",
   "mimetype": "text/x-python",
   "name": "python",
   "nbconvert_exporter": "python",
   "pygments_lexer": "ipython3",
   "version": "3.12.7"
  }
 },
 "nbformat": 4,
 "nbformat_minor": 5
}
