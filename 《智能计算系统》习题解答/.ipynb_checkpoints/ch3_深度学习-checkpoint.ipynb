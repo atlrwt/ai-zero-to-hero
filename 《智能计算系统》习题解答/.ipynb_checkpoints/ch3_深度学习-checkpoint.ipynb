{
 "cells": [
  {
   "cell_type": "markdown",
   "id": "b825a598-f4aa-4848-80df-997a6e9f5f72",
   "metadata": {},
   "source": [
    "# 第 3 章 深度学习 —— 习题解答"
   ]
  },
  {
   "cell_type": "markdown",
   "id": "b8fa59a4-15e0-42fb-b2cf-4cd4dd51de65",
   "metadata": {},
   "source": [
    "## 3.1\n",
    "计算AlexNet、VGG19、ResNet152三个网络中的神经元数目及可训练的参数数目。"
   ]
  },
  {
   "cell_type": "markdown",
   "id": "e0c382ec-2f55-437d-b45e-359491823040",
   "metadata": {},
   "source": [
    "## 3.2\n",
    "计算习题3.1中三个网络完成一次正向过程所需要的乘法数量和加法数量。"
   ]
  },
  {
   "cell_type": "markdown",
   "id": "75bd00aa-1288-4087-9583-bf1ac497b2cc",
   "metadata": {},
   "source": [
    "## 3.3\n",
    "简述错误率与IoU、mAP的关系。"
   ]
  },
  {
   "cell_type": "markdown",
   "id": "cc39e650-5874-4b0a-b5cb-5f22a8ce4bbe",
   "metadata": {},
   "source": [
    "## 3.4\n",
    "简述训练过程中收敛、训练精度和测试精度之间的关系。"
   ]
  },
  {
   "cell_type": "markdown",
   "id": "1cc99145-125a-43c7-9507-6e09ab263679",
   "metadata": {},
   "source": [
    "## 3.5\n",
    "试给出SVM和AlexNet在解决ImageNet图像分类问题的过程中对于计算量的需求，并简述原因。"
   ]
  },
  {
   "cell_type": "markdown",
   "id": "66f3c28b-475d-405c-8760-18b1cb4ad716",
   "metadata": {},
   "source": [
    "## 3.6\n",
    "简述R-CNN、Fast R-CNN和Faster R-CNN的区别。"
   ]
  },
  {
   "cell_type": "markdown",
   "id": "145c6a6a-029d-4b6a-934c-f502370bdb9f",
   "metadata": {},
   "source": [
    "## 3.7\n",
    "简述LSTM标准模型中三个门的主要作用，并给出计算公式。"
   ]
  },
  {
   "cell_type": "markdown",
   "id": "7d488623-a08c-4a15-b563-0718da69a058",
   "metadata": {},
   "source": [
    "## 3.8\n",
    "简述GAN的训练过程。"
   ]
  },
  {
   "cell_type": "markdown",
   "id": "f071f1d5-9c6e-446e-9dba-4f32c0f16384",
   "metadata": {},
   "source": [
    "## 3.9\n",
    "简述图像风格迁移应用的基本过程。"
   ]
  },
  {
   "cell_type": "markdown",
   "id": "0166c4d8-a3d8-4235-8b8f-69350d5c84b4",
   "metadata": {},
   "source": [
    "## 3.10\n",
    "试在MNIST数据集上训练一个多层感知机网络，网络规模拓扑可自定义，要求模型精度达到95%以上。"
   ]
  },
  {
   "cell_type": "markdown",
   "id": "beea30f8-3e21-4de4-bb20-60bf12794c0c",
   "metadata": {},
   "source": [
    "## 3.11\n",
    "试改进标准的反向传播算法，提高训练速度，并给出训练提升的加速比（收敛情况下）。"
   ]
  },
  {
   "cell_type": "markdown",
   "id": "368f076b-5775-4e63-9f7c-1416a1169c76",
   "metadata": {},
   "source": [
    "## 3.12\n",
    "将习题3.11中你设计的新算法应用到ImageNet数据集上，得到的精度有没有受到影响？影响有多大？请调试你的算法保证精度。"
   ]
  },
  {
   "cell_type": "code",
   "execution_count": null,
   "id": "8c3d7ef0-f943-41ad-b89d-27726aee4e3e",
   "metadata": {},
   "outputs": [],
   "source": []
  }
 ],
 "metadata": {
  "kernelspec": {
   "display_name": "Python 3 (ipykernel)",
   "language": "python",
   "name": "python3"
  },
  "language_info": {
   "codemirror_mode": {
    "name": "ipython",
    "version": 3
   },
   "file_extension": ".py",
   "mimetype": "text/x-python",
   "name": "python",
   "nbconvert_exporter": "python",
   "pygments_lexer": "ipython3",
   "version": "3.12.7"
  }
 },
 "nbformat": 4,
 "nbformat_minor": 5
}
